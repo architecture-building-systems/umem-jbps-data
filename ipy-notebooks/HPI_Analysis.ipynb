{
 "cells": [
  {
   "cell_type": "markdown",
   "metadata": {},
   "source": [
    "Analysis of Simulated vs. Measured HPI Data\n",
    "===\n",
    "\n",
    "Clayton Miller - Sept 2, 2015\n",
    "\n",
    "In this analysis we will load the simulation data from EnergyPlus for the HPI building on the ETH Hoenggerberg campus and compare it to the actual consumption data from the energy meters"
   ]
  },
  {
   "cell_type": "code",
   "execution_count": 2,
   "metadata": {
    "collapsed": true
   },
   "outputs": [],
   "source": [
    "import pandas as pd\n",
    "import os\n",
    "import esoreader\n",
    "import seaborn as sns\n",
    "import os\n",
    "%matplotlib inline\n",
    "from pylab import *"
   ]
  },
  {
   "cell_type": "code",
   "execution_count": 3,
   "metadata": {
    "collapsed": false
   },
   "outputs": [],
   "source": [
    "UMEM_FOLDER = r\"\"\n",
    "UMEM_FOLDER_CM = \"/Users/Clayton/UMEM-JBPS-Paper/results/\"\n",
    "UMEM_LWR_OUTPUT_FOLDER = os.path.join(UMEM_FOLDER_CM,\"04-extract-HPI\")\n",
    "esofile = esoreader.read_from_path(os.path.join(UMEM_LWR_OUTPUT_FOLDER, '04-extract-HPI.eso'))"
   ]
  },
  {
   "cell_type": "code",
   "execution_count": 4,
   "metadata": {
    "collapsed": false
   },
   "outputs": [
    {
     "data": {
      "text/plain": [
       "array(['Zone Mean Air Temperature'], dtype=object)"
      ]
     },
     "execution_count": 4,
     "metadata": {},
     "output_type": "execute_result"
    }
   ],
   "source": [
    "# here is a dict with all the variables you can read out of the current eso file\n",
    "#(change idf and rerun simulations for more variables)\n",
    "Varlist = pd.DataFrame(esofile.dd.variables)\n",
    "Varlist = Varlist.T\n",
    "Varlist[2].unique()"
   ]
  },
  {
   "cell_type": "code",
   "execution_count": null,
   "metadata": {
    "collapsed": true
   },
   "outputs": [],
   "source": []
  }
 ],
 "metadata": {
  "kernelspec": {
   "display_name": "Python 2",
   "language": "python",
   "name": "python2"
  },
  "language_info": {
   "codemirror_mode": {
    "name": "ipython",
    "version": 2
   },
   "file_extension": ".py",
   "mimetype": "text/x-python",
   "name": "python",
   "nbconvert_exporter": "python",
   "pygments_lexer": "ipython2",
   "version": "2.7.10"
  }
 },
 "nbformat": 4,
 "nbformat_minor": 0
}
