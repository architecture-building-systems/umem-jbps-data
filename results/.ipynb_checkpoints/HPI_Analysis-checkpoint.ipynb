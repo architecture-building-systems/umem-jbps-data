{
 "cells": [
  {
   "cell_type": "markdown",
   "metadata": {},
   "source": [
    "Analysis of Simulated vs. Measured HPI Data\n",
    "===\n",
    "\n",
    "Clayton Miller - Sept 2, 2015\n",
    "\n",
    "In this analysis we will load the simulation data from EnergyPlus for the HPI building on the ETH Hoenggerberg campus and compare it to the actual consumption data from the energy meters"
   ]
  },
  {
   "cell_type": "code",
   "execution_count": 1,
   "metadata": {
    "collapsed": true
   },
   "outputs": [],
   "source": [
    "import pandas as pd\n",
    "import esoreader\n",
    "import seaborn as sns\n",
    "import os\n",
    "%matplotlib inline\n",
    "from pylab import *"
   ]
  },
  {
   "cell_type": "code",
   "execution_count": null,
   "metadata": {
    "collapsed": true
   },
   "outputs": [],
   "source": [
    "UMEM_FOLDER = r\"\"\n",
    "UMEM_FOLDER_CM = \"/Users/Clayton/UMEM-JBPS-Paper//Dropbox/UMEM/\"\n",
    "UMEM_LWR_OUTPUT_FOLDER = os.path.join(UMEM_FOLDER_CM, 'LWR', 'Output')\n",
    "esofile = esoreader.read_from_path(os.path.join(UMEM_LWR_OUTPUT_FOLDER, 'experiment01.eso'))"
   ]
  }
 ],
 "metadata": {
  "kernelspec": {
   "display_name": "Python 2",
   "language": "python",
   "name": "python2"
  },
  "language_info": {
   "codemirror_mode": {
    "name": "ipython",
    "version": 2
   },
   "file_extension": ".py",
   "mimetype": "text/x-python",
   "name": "python",
   "nbconvert_exporter": "python",
   "pygments_lexer": "ipython2",
   "version": "2.7.10"
  }
 },
 "nbformat": 4,
 "nbformat_minor": 0
}
